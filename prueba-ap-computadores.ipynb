{
 "metadata": {
  "language_info": {
   "codemirror_mode": {
    "name": "ipython",
    "version": 3
   },
   "file_extension": ".py",
   "mimetype": "text/x-python",
   "name": "python",
   "nbconvert_exporter": "python",
   "pygments_lexer": "ipython3",
   "version": "3.9.4"
  },
  "orig_nbformat": 2,
  "kernelspec": {
   "name": "python394jvsc74a57bd00c7bdf220f688d3e8cdfc14df26aaf081432f33a16f4a71cbca67335a0efc41c",
   "display_name": "Python 3.9.4 64-bit ('local': venv)"
  },
  "metadata": {
   "interpreter": {
    "hash": "d8127258e8b8bf70e219a53a1fea26d9ae9d28d57bb795f4cc0e7c65eed629f0"
   }
  }
 },
 "nbformat": 4,
 "nbformat_minor": 2,
 "cells": [
  {
   "source": [
    "## Importaciones"
   ],
   "cell_type": "markdown",
   "metadata": {}
  },
  {
   "cell_type": "code",
   "execution_count": 8,
   "metadata": {},
   "outputs": [],
   "source": [
    "import requests\n",
    "from bs4 import BeautifulSoup\n",
    "from app.src.models.articulo import Articulo, Propiedad\n",
    "from app.src.utilidades import demorarConsulta"
   ]
  },
  {
   "source": [
    "## Realizar petición de búsqueda"
   ],
   "cell_type": "markdown",
   "metadata": {}
  },
  {
   "cell_type": "code",
   "execution_count": 57,
   "metadata": {},
   "outputs": [],
   "source": [
    "urlBase = \"https://www.apcomputadores.com\"\n",
    "nombreArticulo = \"portátil asus\"\n",
    "articulosObj = []\n",
    "params = { 's': nombreArticulo, 'post_type': 'product' }"
   ]
  },
  {
   "cell_type": "code",
   "execution_count": 58,
   "metadata": {},
   "outputs": [],
   "source": [
    "rq = requests.get(urlBase, params = params )"
   ]
  },
  {
   "cell_type": "code",
   "execution_count": 59,
   "metadata": {},
   "outputs": [
    {
     "output_type": "execute_result",
     "data": {
      "text/plain": [
       "200"
      ]
     },
     "metadata": {},
     "execution_count": 59
    }
   ],
   "source": [
    "rq.status_code"
   ]
  },
  {
   "source": [
    "## Lista de artículos en búsqueda"
   ],
   "cell_type": "markdown",
   "metadata": {}
  },
  {
   "cell_type": "code",
   "execution_count": 60,
   "metadata": {},
   "outputs": [],
   "source": [
    "soup = BeautifulSoup(rq.text, 'html.parser')"
   ]
  },
  {
   "cell_type": "code",
   "execution_count": 71,
   "metadata": {},
   "outputs": [],
   "source": [
    "articulosTags = soup.select('.product-item')[:3]"
   ]
  },
  {
   "source": [
    "## Información principal de artículo"
   ],
   "cell_type": "markdown",
   "metadata": {}
  },
  {
   "cell_type": "code",
   "execution_count": 73,
   "metadata": {},
   "outputs": [],
   "source": [
    "infoPrincipalTag = articulosTags[0].select_one('.category-discription-grid')"
   ]
  },
  {
   "source": [
    "### Nombre"
   ],
   "cell_type": "markdown",
   "metadata": {}
  },
  {
   "cell_type": "code",
   "execution_count": 79,
   "metadata": {},
   "outputs": [],
   "source": [
    "nombreTag = infoPrincipalTag.select_one('h4 > a')"
   ]
  },
  {
   "cell_type": "code",
   "execution_count": 83,
   "metadata": {},
   "outputs": [
    {
     "output_type": "execute_result",
     "data": {
      "text/plain": [
       "'Portatil ASUS ZENBOOK 14 UM431DA Ryzen 5 8GB 256SSD Linux 14″'"
      ]
     },
     "metadata": {},
     "execution_count": 83
    }
   ],
   "source": [
    "nombre = nombreTag.text\n",
    "nombre"
   ]
  },
  {
   "source": [
    "### Precio"
   ],
   "cell_type": "markdown",
   "metadata": {}
  },
  {
   "cell_type": "code",
   "execution_count": 90,
   "metadata": {},
   "outputs": [
    {
     "output_type": "execute_result",
     "data": {
      "text/plain": [
       "'3099000'"
      ]
     },
     "metadata": {},
     "execution_count": 90
    }
   ],
   "source": [
    "precio = infoPrincipalTag.select_one('.woocommerce-Price-amount').text.replace('$', '').replace('.', '')\n",
    "precio"
   ]
  },
  {
   "source": [
    "### URL"
   ],
   "cell_type": "markdown",
   "metadata": {}
  },
  {
   "cell_type": "code",
   "execution_count": 82,
   "metadata": {},
   "outputs": [
    {
     "output_type": "execute_result",
     "data": {
      "text/plain": [
       "'https://www.apcomputadores.com/tienda/portatil-asus-zenbook-14-um431da-ryzen-5-8gb-256ssd-linux-14/'"
      ]
     },
     "metadata": {},
     "execution_count": 82
    }
   ],
   "source": [
    "link = nombreTag['href']\n",
    "link"
   ]
  },
  {
   "cell_type": "code",
   "execution_count": 153,
   "metadata": {},
   "outputs": [
    {
     "output_type": "execute_result",
     "data": {
      "text/plain": [
       "'/tienda/portatil-asus-zenbook-14-um431da-ryzen-5-8gb-256ssd-linux-14'"
      ]
     },
     "metadata": {},
     "execution_count": 153
    }
   ],
   "source": [
    "link[link.find('/', 8): len(link) - 1]"
   ]
  },
  {
   "source": [
    "## Detalles de artículo"
   ],
   "cell_type": "markdown",
   "metadata": {}
  },
  {
   "cell_type": "code",
   "execution_count": 2,
   "metadata": {},
   "outputs": [],
   "source": [
    "## Navegador\n",
    "from selenium import webdriver\n",
    "from selenium.webdriver.chrome.options import Options\n",
    "from selenium.webdriver.common.keys import Keys\n",
    "from selenium.webdriver.support.ui import WebDriverWait\n",
    "from selenium.common.exceptions import TimeoutException"
   ]
  },
  {
   "cell_type": "code",
   "execution_count": 3,
   "metadata": {},
   "outputs": [],
   "source": [
    "def configure_driver():\n",
    "    # Add additional Options to the webdriver\n",
    "    chrome_options = Options()\n",
    "    # add the argument and make the browser Headless.\n",
    "    chrome_options.add_argument(\"--headless\")\n",
    "    # Instantiate the Webdriver: Mention the executable path of the webdriver you have downloaded\n",
    "    # For linux/Mac\n",
    "    # driver = webdriver.Chrome(options = chrome_options)\n",
    "    # For windows\n",
    "    driver = webdriver.Chrome(options = chrome_options)\n",
    "    return driver"
   ]
  },
  {
   "cell_type": "code",
   "execution_count": 4,
   "metadata": {},
   "outputs": [],
   "source": [
    "driver = configure_driver()"
   ]
  },
  {
   "cell_type": "code",
   "execution_count": 5,
   "metadata": {},
   "outputs": [],
   "source": [
    "driver.get('https://www.apcomputadores.com/tienda/portatil-asus-zenbook-14-um431da-ryzen-5-8gb-256ssd-linux-14/')"
   ]
  },
  {
   "cell_type": "code",
   "execution_count": 6,
   "metadata": {},
   "outputs": [
    {
     "output_type": "stream",
     "name": "stdout",
     "text": [
      "Si se ve\n"
     ]
    }
   ],
   "source": [
    "try:\n",
    "    WebDriverWait(driver, 5).until(lambda s: s.find_element_by_class_name(\"woocommerce-product-details__short-description\").is_displayed())\n",
    "    print(\"Si se ve\")\n",
    "except TimeoutException:\n",
    "    print(\"TimeoutException: Element not found\")"
   ]
  },
  {
   "cell_type": "code",
   "execution_count": 15,
   "metadata": {},
   "outputs": [],
   "source": [
    "cat = driver.find_element_by_class_name('woocommerce-product-details__short-description')"
   ]
  },
  {
   "cell_type": "code",
   "execution_count": 16,
   "metadata": {},
   "outputs": [
    {
     "output_type": "execute_result",
     "data": {
      "text/plain": [
       "'MODELO: Zenbook\\nN/P: UM431DA-AM026\\nMARCA: Asus\\nCOLOR: Azul Metalizado con adornos dorados\\nPROCESADOR: AMD Ryzen 5 3500U Quad-Core 2.10 – 3.70 GHz\\nDISCO SOLIDO SSD: 256GB Conexión M2 PCI Express\\nMEMORIA RAM: 8GB On-Board DDR4 2400 Mhz\\nPANTALLA: 14 Pulgadas Full HD (1920×1080) Nano Edge\\nGRÁFICOS: AMD Radeon Vega 8\\nTECLADO: Retro- iluminado En español con NumberPad\\nUNIDAD ÓPTICA: NO\\nNo tiene Ethernet\\nNo tiene VGA'"
      ]
     },
     "metadata": {},
     "execution_count": 16
    }
   ],
   "source": [
    "cat.text"
   ]
  },
  {
   "cell_type": "code",
   "execution_count": 17,
   "metadata": {},
   "outputs": [],
   "source": [
    "soup2 = BeautifulSoup(driver.page_source, \"html\")"
   ]
  },
  {
   "cell_type": "code",
   "execution_count": 18,
   "metadata": {},
   "outputs": [],
   "source": [
    "propiedadesTag = soup2.select('.woocommerce-product-details__short-description li')"
   ]
  },
  {
   "cell_type": "code",
   "execution_count": 20,
   "metadata": {},
   "outputs": [],
   "source": [
    "textoPropiedad = propiedadesTag[0].text"
   ]
  },
  {
   "cell_type": "code",
   "execution_count": 21,
   "metadata": {},
   "outputs": [
    {
     "output_type": "execute_result",
     "data": {
      "text/plain": [
       "6"
      ]
     },
     "metadata": {},
     "execution_count": 21
    }
   ],
   "source": [
    "textoPropiedad.find(\":\")"
   ]
  },
  {
   "cell_type": "code",
   "execution_count": 22,
   "metadata": {},
   "outputs": [
    {
     "output_type": "execute_result",
     "data": {
      "text/plain": [
       "'MODELO'"
      ]
     },
     "metadata": {},
     "execution_count": 22
    }
   ],
   "source": [
    "nombre = textoPropiedad[:textoPropiedad.find(\":\")]\n",
    "nombre"
   ]
  },
  {
   "cell_type": "code",
   "execution_count": 23,
   "metadata": {},
   "outputs": [
    {
     "output_type": "execute_result",
     "data": {
      "text/plain": [
       "'Zenbook'"
      ]
     },
     "metadata": {},
     "execution_count": 23
    }
   ],
   "source": [
    "descripcion = textoPropiedad[textoPropiedad.find(\":\") + 1:].strip()\n",
    "descripcion"
   ]
  },
  {
   "cell_type": "code",
   "execution_count": 42,
   "metadata": {},
   "outputs": [],
   "source": [
    "from app.src.accesoBD import BestockDB"
   ]
  },
  {
   "cell_type": "code",
   "execution_count": 43,
   "metadata": {},
   "outputs": [],
   "source": [
    "bd = BestockDB()"
   ]
  },
  {
   "cell_type": "code",
   "execution_count": 44,
   "metadata": {},
   "outputs": [
    {
     "output_type": "error",
     "ename": "InterfaceError",
     "evalue": "('28000', \"[28000] [Microsoft][ODBC Driver 17 for SQL Server][SQL Server]Login failed for user 'sa'. (18456) (SQLDriverConnect); [28000] [Microsoft][ODBC Driver 17 for SQL Server][SQL Server]Login failed for user 'sa'. (18456)\")",
     "traceback": [
      "\u001b[1;31m---------------------------------------------------------------------------\u001b[0m",
      "\u001b[1;31mInterfaceError\u001b[0m                            Traceback (most recent call last)",
      "\u001b[1;32m<ipython-input-44-507184b130ad>\u001b[0m in \u001b[0;36m<module>\u001b[1;34m\u001b[0m\n\u001b[1;32m----> 1\u001b[1;33m \u001b[0mcurr\u001b[0m \u001b[1;33m=\u001b[0m \u001b[0mbd\u001b[0m\u001b[1;33m.\u001b[0m\u001b[0mconectar\u001b[0m\u001b[1;33m(\u001b[0m\u001b[1;33m)\u001b[0m\u001b[1;33m\u001b[0m\u001b[1;33m\u001b[0m\u001b[0m\n\u001b[0m",
      "\u001b[1;32mc:\\Users\\david\\source\\repos\\bestock\\app\\src\\accesoBD.py\u001b[0m in \u001b[0;36mconectar\u001b[1;34m(self)\u001b[0m\n\u001b[0;32m      8\u001b[0m \u001b[1;33m\u001b[0m\u001b[0m\n\u001b[0;32m      9\u001b[0m   \u001b[1;32mdef\u001b[0m \u001b[0mconectar\u001b[0m\u001b[1;33m(\u001b[0m\u001b[0mself\u001b[0m\u001b[1;33m)\u001b[0m\u001b[1;33m:\u001b[0m\u001b[1;33m\u001b[0m\u001b[1;33m\u001b[0m\u001b[0m\n\u001b[1;32m---> 10\u001b[1;33m     \u001b[0mcnxn\u001b[0m \u001b[1;33m=\u001b[0m \u001b[0mpyodbc\u001b[0m\u001b[1;33m.\u001b[0m\u001b[0mconnect\u001b[0m\u001b[1;33m(\u001b[0m\u001b[1;34m'DRIVER={ODBC Driver 17 for SQL Server};SERVER='\u001b[0m\u001b[1;33m+\u001b[0m\u001b[0mself\u001b[0m\u001b[1;33m.\u001b[0m\u001b[0mserver\u001b[0m\u001b[1;33m+\u001b[0m\u001b[1;34m';DATABASE='\u001b[0m\u001b[1;33m+\u001b[0m\u001b[0mself\u001b[0m\u001b[1;33m.\u001b[0m\u001b[0mdatabase\u001b[0m\u001b[1;33m+\u001b[0m\u001b[1;34m';UID='\u001b[0m\u001b[1;33m+\u001b[0m\u001b[0mself\u001b[0m\u001b[1;33m.\u001b[0m\u001b[0musername\u001b[0m\u001b[1;33m+\u001b[0m\u001b[1;34m';PWD='\u001b[0m\u001b[1;33m+\u001b[0m \u001b[0mself\u001b[0m\u001b[1;33m.\u001b[0m\u001b[0mpassword\u001b[0m\u001b[1;33m)\u001b[0m\u001b[1;33m\u001b[0m\u001b[1;33m\u001b[0m\u001b[0m\n\u001b[0m\u001b[0;32m     11\u001b[0m     \u001b[1;32mreturn\u001b[0m \u001b[0mcnxn\u001b[0m\u001b[1;33m.\u001b[0m\u001b[0mcursor\u001b[0m\u001b[1;33m(\u001b[0m\u001b[1;33m)\u001b[0m\u001b[1;33m\u001b[0m\u001b[1;33m\u001b[0m\u001b[0m\n",
      "\u001b[1;31mInterfaceError\u001b[0m: ('28000', \"[28000] [Microsoft][ODBC Driver 17 for SQL Server][SQL Server]Login failed for user 'sa'. (18456) (SQLDriverConnect); [28000] [Microsoft][ODBC Driver 17 for SQL Server][SQL Server]Login failed for user 'sa'. (18456)\")"
     ]
    }
   ],
   "source": [
    "curr = bd.conectar()"
   ]
  }
 ]
}