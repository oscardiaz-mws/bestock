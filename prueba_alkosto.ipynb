{
 "metadata": {
  "language_info": {
   "codemirror_mode": {
    "name": "ipython",
    "version": 3
   },
   "file_extension": ".py",
   "mimetype": "text/x-python",
   "name": "python",
   "nbconvert_exporter": "python",
   "pygments_lexer": "ipython3",
   "version": "3.9.4"
  },
  "orig_nbformat": 2,
  "kernelspec": {
   "name": "python394jvsc74a57bd07a6fbc9bafb9ed488e832a42f9d116666b867ed4b90d1a0fafa7a2e985fe532d",
   "display_name": "Python 3.9.4 64-bit"
  },
  "metadata": {
   "interpreter": {
    "hash": "7a6fbc9bafb9ed488e832a42f9d116666b867ed4b90d1a0fafa7a2e985fe532d"
   }
  }
 },
 "nbformat": 4,
 "nbformat_minor": 2,
 "cells": [
  {
   "cell_type": "code",
   "execution_count": 8,
   "metadata": {},
   "outputs": [],
   "source": [
    "from src.sitios.alkosto import Alkosto\n",
    "from src.utilidades import demorarConsulta\n",
    "\n",
    "articuloBuscar = \"portátil\"\n",
    "demorarConsulta()\n",
    "alk = Alkosto().consultarArticulos(articuloBuscar)"
   ]
  },
  {
   "cell_type": "code",
   "execution_count": 19,
   "metadata": {},
   "outputs": [
    {
     "output_type": "execute_result",
     "data": {
      "text/plain": [
       "1"
      ]
     },
     "metadata": {},
     "execution_count": 19
    }
   ],
   "source": [
    "len(alk)"
   ]
  }
 ]
}