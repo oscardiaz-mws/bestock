{
 "metadata": {
  "language_info": {
   "codemirror_mode": {
    "name": "ipython",
    "version": 3
   },
   "file_extension": ".py",
   "mimetype": "text/x-python",
   "name": "python",
   "nbconvert_exporter": "python",
   "pygments_lexer": "ipython3",
   "version": "3.8.5"
  },
  "orig_nbformat": 2,
  "kernelspec": {
   "name": "python385jvsc74a57bd066e4a4b7c121db4243309d1eb7f3fba70ad006b305f754897095e92fca8ac47b",
   "display_name": "Python 3.8.5 64-bit ('base': conda)"
  }
 },
 "nbformat": 4,
 "nbformat_minor": 2,
 "cells": [
  {
   "cell_type": "code",
   "execution_count": 2,
   "metadata": {},
   "outputs": [],
   "source": [
    "import requests\n",
    "from bs4 import BeautifulSoup\n",
    "\n",
    "urlBase = \"https://www.alkosto.com/salesperson/result/\"\n",
    "nombreArticulo = \"cama\"\n",
    "params = { 'q': nombreArticulo }\n",
    "rq = requests.get(urlBase, params = params )\n",
    "\n",
    "if rq.status_code == 200:\n",
    "    soup = BeautifulSoup(rq.text, 'html.parser')\n",
    "    articulos = soup.select('ul.products-grid > li')"
   ]
  },
  {
   "cell_type": "code",
   "execution_count": 13,
   "metadata": {},
   "outputs": [
    {
     "output_type": "stream",
     "name": "stdout",
     "text": [
      "Base Cama Doble 140 x 190 cm TUKASA Ecocuero Negro\nhttp://www.alkosto.com/base-cama-doble-tu-kasa-ecocuero-negro-140-x-190-cm\n329900.0\n<span class=\"price-old\" id=\"old-price-70786\">\n                    $ 379.900                </span>\nBase Cama Dividida Semidoble 120 x 190 cm TUKASA Ecocuero Negro\nhttp://www.alkosto.com/base-cama-dividida-semidoble-tu-kasa-ecocuero-negro-120-x-190-cm\n349900.0\n<span class=\"price-old\" id=\"old-price-70794\">\n                    $ 399.900                </span>\nBase Cama Dividida Queen 160 x 190 cm TUKASA Ecocuero Negro\nhttp://www.alkosto.com/base-cama-dividida-extradoble-tu-kasa-ecocuero-negro-160-x-190-cm\n379900.0\n<span class=\"price-old\" id=\"old-price-70796\">\n                    $ 439.900                </span>\nBase Cama Dividida King 200 x 200 cm TUKASA Ecocuero Negro\nhttp://www.alkosto.com/base-cama-dividida-king-200-x-200-cm-tu-kasa-ecocuero-negro\n529900.0\n<span class=\"price-old\" id=\"old-price-72692\">\n                    $ 609.900                </span>\nBase Cama Semidoble 120 x 190 cm TUKASA Ecocuero Negro\nhttp://www.alkosto.com/base-cama-semidoble-tu-kasa-ecocuero-negro-120-x-190-cm\n329900.0\n<span class=\"price-old\" id=\"old-price-70784\">\n                    $ 369.900                </span>\nBase Cama TUKASA Nido Semidoble 120 x 190 Tela Negro\nhttp://www.alkosto.com/base-cama-tukasa-nido-semidoble-120-x-190-tela-negro\n899900.0\n<span class=\"price-old\" id=\"old-price-89325\">\n                    $ 1.059.900                </span>\nBase Cama TUKASA Nido Doble 140 x 190 Tela Negra\nhttp://www.alkosto.com/base-cama-tukasa-nido-doble-140-x-190-tela-negra\n999900.0\n<span class=\"price-old\" id=\"old-price-89760\">\n                    $ 1.219.900                </span>\nBase Cama TUKASA Nido Doble 140 x 190 Tela Azul\nhttp://www.alkosto.com/base-cama-tukasa-nido-doble-140-x-190-tela-azul\n999900.0\n<span class=\"price-old\" id=\"old-price-89756\">\n                    $ 1.219.900                </span>\nBase Cama TUKASA Nido Semidoble 120 x 190 Tela Azul\nhttp://www.alkosto.com/base-cama-tukasa-nido-semidoble-120-x-190-tela-azul\n899900.0\n<span class=\"price-old\" id=\"old-price-89324\">\n                    $ 1.059.900                </span>\nColchón Doble ELDORADO Tahoma 140 x 190 cm\nhttp://www.alkosto.com/colchon-eldorado-doble-tahoma-140x190-cms-resortado\n779960.0\n<span class=\"price-old\" id=\"old-price-19155\">\n                    $ 1.949.900                </span>\nKOMBO ELDORADO: Colchón Resortado Doble Therapedik 140 x 190 cm + Base Cama Belly dividida\nhttp://www.alkosto.com/kombo-eldorado-colchon-resortado-doble-therapedik-140-x-190-cm-base-cama-dividida\n1959960.0\n<span class=\"price-old\" id=\"old-price-95182\">\n                    $ 4.899.900                </span>\nKOMBO ELDORADO: Colchón Doble Tahoma 140 x 190 cm + Base Cama Dividida Belly\nhttp://www.alkosto.com/kombo-eldorado-colchon-doble-tahoma-140x190-cms-resortado-base-cama-dividida-nova-negra\n1519960.0\n<span class=\"price-old\" id=\"old-price-19174\">\n                    $ 3.799.900                </span>\nKOMBO ELDORADO: Colchón Resortado Doble Florence 140 x 190 cm + Base Cama Belly\nhttp://www.alkosto.com/kombo-el-dorado-colchon-resortado-doble-florence-140-x-190-cm-base-cama-classic\n1359960.0\n<span class=\"price-old\" id=\"old-price-92438\">\n                    $ 3.399.900                </span>\nColchón Espumado Doble ROMANCE RELAX Agata 140 X 190\nhttp://www.alkosto.com/colchon-espumado-doble-romance-relax-agata-140-x-190\n461945.0\n<span class=\"price-old\" id=\"old-price-87824\">\n                    $ 839.900                </span>\nKombo Cloud: Colchón Resortado Doble Spring Rest 140X190 + 2 Almohadas Siliconadas + Protector de Colchón\nhttp://www.alkosto.com/colchon-resortado-doble-spring-cloud-140x190-2-almohadas-siliconadas-protector-de-colchon\n899960.0\n<span class=\"price-old\" id=\"old-price-89733\">\n                    $ 2.249.900                </span>\nKombo Cloud: Colchon Resortado Doble Spring Rest 140X190 + Base Cama Madison Negra + 2 Almohadas Siliconadas + Protector de Colchón\nhttp://www.alkosto.com/kombo-cloud-colchon-resortado-doble-spring-rest-140x190-base-cama-madison-negra-2-almohadas-siliconadas-protector-de-colchon\n1239960.0\n<span class=\"price-old\" id=\"old-price-93476\">\n                    $ 3.099.900                </span>\nPlumón Sencillo KAMUCHY Comfortlife 300gr\nhttp://www.alkosto.com/plumon-sencillo-kamuchy-comfortlife-300gr\n144900.0\nNone\nCubrelecho/Cubrecama DISTRIHOGAR Sencillo Bolso Microfibra\nhttp://www.alkosto.com/cubrelecho-cubrecama-distrihogar-sencillo-bolso-microfibra\n89950.0\n<span class=\"price-old\" id=\"old-price-104460\">\n                    $ 128.500                </span>\nSet x 2 Juego de Sábanas Tela Polar CASALINDA Sencillo Azul\nhttp://www.alkosto.com/set-x-2-juego-de-sabanas-tela-polar-casalinda-sencillo-azul\n53280.0\n<span class=\"price-old\" id=\"old-price-104095\">\n                    $ 133.200                </span>\nColchón Resortado Doble SPRING Ortorelax Plus 140 x 190 cm\nhttp://www.alkosto.com/colchon-spring-140-x-190-doble-ortorelax-plus-v3\n695435.0\n<span class=\"price-old\" id=\"old-price-77622\">\n                    $ 1.069.900                </span>\nColchón Resortado Doble K-LINE Esencial Plus 140 x 190 cm\nhttp://www.alkosto.com/colchon-de-resorte-k-line-esencial-pluss-doble\n580930.0\n<span class=\"price-old\" id=\"old-price-11504\">\n                    $ 829.900                </span>\nColchón Resortado Doble SIMMONS Hamilton Unitop 140 x 190 cm\nhttp://www.alkosto.com/colchon-simmons-hamilton-unitop-doble\n1234935.0\n<span class=\"price-old\" id=\"old-price-13719\">\n                    $ 1.899.900                </span>\nSet x 2 Juego de Sábanas Tela Polar CASALINDA Sencillo Rojo\nhttp://www.alkosto.com/set-2-juego-sabanas-tela-polar-sencillo-rojo\n53280.0\n<span class=\"price-old\" id=\"old-price-104092\">\n                    $ 133.200                </span>\nSofá Cama TUKASA Pekin Ecocuero Negro\nhttp://www.alkosto.com/sofa-cama-tu-kasa-pekin-ecocuero-negro\n499900.0\n<span class=\"price-old\" id=\"old-price-69996\">\n                    $ 619.900                </span>\nColchón Resortado Doble DORMILUNA Mercurio Top 140 x 190 cm\nhttp://www.alkosto.com/colchon-de-resorte-dormiluna-mercurio-top-ortopedico-doble\n1247935.0\n<span class=\"price-old\" id=\"old-price-3197\">\n                    $ 1.919.900                </span>\nAlmohada KAMUCHY 50 x 70 Micro-Down\nhttp://www.alkosto.com/almohada-kamuchy-50-x-70-micro-down\n29904.0\n<span class=\"price-old\" id=\"old-price-74045\">\n                    $ 37.380                </span>\nKOMBO ROMANCE RELAX: Colchón Espumado Doble Polaris 140 x 190 cm + Base Cama + 2 Almohadas\nhttp://www.alkosto.com/kombo-romance-relax-colchon-140-x-190-polaris-base-cama-doble-almohada\n1299950.0\n<span class=\"price-old\" id=\"old-price-77371\">\n                    $ 2.599.900                </span>\nColchón Resortado Doble SPRING Descanso Perfecto 140 x 190 cm\nhttp://www.alkosto.com/colchon-spring-doble-descanso-perfecto-140x190-cm\n1499950.0\n<span class=\"price-old\" id=\"old-price-60886\">\n                    $ 2.999.900                </span>\nKOMBO SPRING: Colchón Resortado Doble Descanso Perfecto 140 x 190 cm + Base Cama Salin\nhttp://www.alkosto.com/kombo-spring-descanso-perfecto-colchon-doble-base-cama-salim-completa\n2034945.0\n<span class=\"price-old\" id=\"old-price-17934\">\n                    $ 3.699.900                </span>\nColchón Resortado Doble K-LINE Esencial 140 x 190 cm\nhttp://www.alkosto.com/colchon-de-resorte-k-line-esencial-doble\n489930.0\n<span class=\"price-old\" id=\"old-price-11507\">\n                    $ 699.900                </span>\n"
     ]
    }
   ],
   "source": [
    "for articulo in articulos:\n",
    "    print(articulo.h2.a.text)\n",
    "    print(articulo.h2.a['href'])\n",
    "    print(float(articulo.select_one('span.price').text.strip()[2:].replace(\".\", \"\")))\n",
    "    print(articulo.select_one('span.price-old'))"
   ]
  },
  {
   "cell_type": "code",
   "execution_count": 4,
   "metadata": {},
   "outputs": [],
   "source": [
    "rq2 = requests.get(\"https://www.alkosto.com/base-cama-dividida-king-200-x-200-cm-tu-kasa-ecocuero-negro\")\n",
    "soup2 = BeautifulSoup(rq2.text, 'html.parser')"
   ]
  },
  {
   "cell_type": "code",
   "execution_count": 5,
   "metadata": {},
   "outputs": [],
   "source": [
    "propiedadesTags = soup2.select(\".tab-container\")[1].find_all(\"tr\")"
   ]
  },
  {
   "cell_type": "code",
   "execution_count": 10,
   "metadata": {},
   "outputs": [
    {
     "output_type": "stream",
     "name": "stdout",
     "text": [
      "True\nTrue\nTrue\nTrue\nTrue\nTrue\nTrue\n"
     ]
    }
   ],
   "source": [
    "for propiedadTag in propiedadesTags:\n",
    "    # print(propiedadTag.find(class_=\"label\").text)\n",
    "    # print(propiedadTag.find(class_=\"data\").text)\n",
    "    print(propiedadTag.find(\"h1\") == None)\n"
   ]
  }
 ]
}